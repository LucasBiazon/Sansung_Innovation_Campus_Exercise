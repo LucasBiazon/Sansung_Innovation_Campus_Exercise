{
 "cells": [
  {
   "cell_type": "markdown",
   "metadata": {},
   "source": [
    "## Unidade 7 - Lógica de programação\n",
    "Q1. \n",
    "Receber uma letra alfabética do usuário e imprimir 'É uma vogal' para a, e, i, o, u, e 'É uma consoante' para qualquer outra letra."
   ]
  },
  {
   "cell_type": "code",
   "execution_count": 5,
   "metadata": {},
   "outputs": [
    {
     "name": "stdout",
     "output_type": "stream",
     "text": [
      "É uma consoante\n"
     ]
    }
   ],
   "source": [
    "letra = input(\"Digite uma letra: \")\n",
    "\n",
    "# vogais = [\"a\", \"e\", \"i\", \"o\", \"u\", \"A\", \"E\", \"I\", \"O\", \"U\"]\n",
    "# if letra in vogais:\n",
    "#     print(\"É uma vogal\")\n",
    "# else: \n",
    "#     print(\"É uma consoante\")\n",
    "\n",
    "if letra == \"a\" or letra == \"e\" or \\\n",
    "letra == \"i\" or letra == \"o\" or letra == \"u\" or\\\n",
    "letra == \"A\" or letra == \"E\" or letra == \"I\" or \\\n",
    "letra == \"O\" or letra == \"U\":\n",
    "    print(\"É uma vogal\")\n",
    "else:\n",
    "    print(\"É uma consoante\")"
   ]
  },
  {
   "cell_type": "markdown",
   "metadata": {},
   "source": [
    "Q2. \n",
    "Escreva o seguinte programa que recebe dois inteiros a, b como entrada, determina se a é um múltiplo de b e imprime o resultado."
   ]
  },
  {
   "cell_type": "code",
   "execution_count": 9,
   "metadata": {},
   "outputs": [
    {
     "name": "stdout",
     "output_type": "stream",
     "text": [
      "25 é múltiplo de 5\n"
     ]
    }
   ],
   "source": [
    "a = int(input(\"Digite o primeiro número: \"))\n",
    "b = int(input(\"Digite o segundo número: \"))\n",
    "\n",
    "if a % b == 0:\n",
    "    print(a, \"é múltiplo de\", b)\n"
   ]
  }
 ],
 "metadata": {
  "kernelspec": {
   "display_name": "Python 3",
   "language": "python",
   "name": "python3"
  },
  "language_info": {
   "codemirror_mode": {
    "name": "ipython",
    "version": 3
   },
   "file_extension": ".py",
   "mimetype": "text/x-python",
   "name": "python",
   "nbconvert_exporter": "python",
   "pygments_lexer": "ipython3",
   "version": "3.10.12"
  }
 },
 "nbformat": 4,
 "nbformat_minor": 2
}
