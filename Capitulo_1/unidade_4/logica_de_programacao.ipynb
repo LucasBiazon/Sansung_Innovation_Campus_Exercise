{
 "cells": [
  {
   "cell_type": "markdown",
   "metadata": {},
   "source": [
    "### Unidade 4 - Lógica de Programação\n",
    "Q1. \n",
    "Atribuir os valores 30, 60 às variáveis largura e altura, respectivamente. Escreva um programa que utilize estas duas variáveis para encontrar a área do retângulo, como mostrado abaixo. "
   ]
  },
  {
   "cell_type": "code",
   "execution_count": 7,
   "metadata": {},
   "outputs": [
    {
     "name": "stdout",
     "output_type": "stream",
     "text": [
      "Área do Retângulo : 1800\n"
     ]
    }
   ],
   "source": [
    "altura = 30\n",
    "base = 60 \n",
    "area_do_retangulo = base * altura\n",
    "print(\"Área do Retângulo :\", area_do_retangulo)"
   ]
  },
  {
   "cell_type": "markdown",
   "metadata": {},
   "source": [
    "Q2. \n",
    "O Teorema de Pitágoras afirma que o quadrado da hipotenusa c para qualquer triângulo retângulo é igual ao quadrado da base a mais o quadrado da altura b. Escreva o código que calcula o comprimento da hipotenusa recebendo a base e a altura como números inteiros. "
   ]
  },
  {
   "cell_type": "code",
   "execution_count": 8,
   "metadata": {},
   "outputs": [
    {
     "name": "stdout",
     "output_type": "stream",
     "text": [
      "O comprimento da hipotenusado triângulo é:  5.0\n"
     ]
    }
   ],
   "source": [
    "base_do_triangulo = int(input(\"Digite a base do triângulo: \"))\n",
    "altura_do_triangulo = int(input(\"Digite a altura do triângulo: \"))\n",
    "print(\"O comprimento da hipotenusado triângulo é: \", (base_do_triangulo**2 + altura_do_triangulo**2)**0.5)"
   ]
  }
 ],
 "metadata": {
  "kernelspec": {
   "display_name": "Python 3",
   "language": "python",
   "name": "python3"
  },
  "language_info": {
   "codemirror_mode": {
    "name": "ipython",
    "version": 3
   },
   "file_extension": ".py",
   "mimetype": "text/x-python",
   "name": "python",
   "nbconvert_exporter": "python",
   "pygments_lexer": "ipython3",
   "version": "3.10.12"
  }
 },
 "nbformat": 4,
 "nbformat_minor": 2
}
