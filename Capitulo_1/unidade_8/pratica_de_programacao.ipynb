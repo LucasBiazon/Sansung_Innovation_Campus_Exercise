{
 "cells": [
  {
   "cell_type": "markdown",
   "metadata": {},
   "source": [
    "## Unidade 8 - prática de programação\n",
    "Q1. \n",
    "A Agência A está planejando a emissão de ingressos de uma sala de concertos para o show de cantores de ídolos. Aqui, o número n é a entrada e o número do assento é organizado da seguinte forma. n * n assentos são colocados quando n é dado como entrada. A disposição abaixo dos números dos assentos é chamada de matriz de serpente porque a matriz aumenta em uma matriz em forma de tronco de serpente. Escreva um programa que produza matrizes destes números."
   ]
  },
  {
   "cell_type": "code",
   "execution_count": 98,
   "metadata": {},
   "outputs": [
    {
     "name": "stdout",
     "output_type": "stream",
     "text": [
      "1 2 3 4 5 \n",
      "10 9 8 7 6 \n",
      "11 12 13 14 15 \n",
      "20 19 18 17 16 \n",
      "21 22 23 24 25 \n"
     ]
    }
   ],
   "source": [
    "n = int(input(\"Digite um número inteiro de assentos:\"))\n",
    "\n",
    "j = 0\n",
    "for i in range(n):\n",
    "    if(i % 2 == 0):\n",
    "        for z in range(0, n, 1):\n",
    "          print(z + j + 1, end=' ')\n",
    "        j += n\n",
    "    if(i % 2 == 1):\n",
    "        for z in range(n, 0, -1):\n",
    "          print(z + j, end=' ')\n",
    "        j += n\n",
    "    print()\n",
    "    \n",
    "  \n",
    "        \n",
    "\n",
    "    \n",
    "    \n",
    "    "
   ]
  }
 ],
 "metadata": {
  "kernelspec": {
   "display_name": "Python 3",
   "language": "python",
   "name": "python3"
  },
  "language_info": {
   "codemirror_mode": {
    "name": "ipython",
    "version": 3
   },
   "file_extension": ".py",
   "mimetype": "text/x-python",
   "name": "python",
   "nbconvert_exporter": "python",
   "pygments_lexer": "ipython3",
   "version": "3.10.12"
  }
 },
 "nbformat": 4,
 "nbformat_minor": 2
}
