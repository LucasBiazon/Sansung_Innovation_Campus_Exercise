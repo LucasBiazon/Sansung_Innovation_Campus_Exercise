{
 "cells": [
  {
   "cell_type": "markdown",
   "metadata": {},
   "source": [
    "# Unidade 1 - Q2\n",
    "#### Começando com a primeira caixa no canto superior esquerdo, mova um espaço de cada vez e preencha as caixas como abaixo. Pense na maneira mais eficiente de executar. "
   ]
  },
  {
   "cell_type": "markdown",
   "metadata": {},
   "source": [
    "### Imagem 1"
   ]
  },
  {
   "cell_type": "code",
   "execution_count": 10,
   "metadata": {},
   "outputs": [
    {
     "name": "stdout",
     "output_type": "stream",
     "text": [
      "1.Mova um quadrado para baixo\n",
      "2.Preencha o quadrado\n",
      "3.Mova um quadrado para direita\n",
      "4.Mova um quadrado para cima\n",
      "5.Preencha o quadrado\n",
      "6.Mova um quadrado para direita\n",
      "7.Preencha o quadrado\n",
      "8.Mova um quadrado para baixo\n",
      "9.Mova um quadrado para direita\n",
      "10.Preencha o quadrado\n"
     ]
    }
   ],
   "source": [
    "print(\"1.Mova um quadrado para baixo\")\n",
    "print(\"2.Preencha o quadrado\")\n",
    "print(\"3.Mova um quadrado para direita\")\n",
    "print(\"4.Mova um quadrado para cima\")\n",
    "print(\"5.Preencha o quadrado\")\n",
    "print(\"6.Mova um quadrado para direita\")\n",
    "print(\"7.Preencha o quadrado\")\n",
    "print(\"8.Mova um quadrado para baixo\")\n",
    "print(\"9.Mova um quadrado para direita\")\n",
    "print(\"10.Preencha o quadrado\")"
   ]
  },
  {
   "cell_type": "markdown",
   "metadata": {},
   "source": [
    "### Imagem 2"
   ]
  },
  {
   "cell_type": "code",
   "execution_count": 11,
   "metadata": {},
   "outputs": [
    {
     "name": "stdout",
     "output_type": "stream",
     "text": [
      "1.Preencha o quadrado\n",
      "2.Mova um quadrado para baixo\n",
      "3.Mova um quadrado para direita\n",
      "4.Preencha o quadrado\n",
      "5.Mova um quadrado para baixo\n",
      "6.Mova um quadrado para direita\n",
      "7.Preencha o quadrado\n",
      "8.Mova um quadrado para baixo\n",
      "9.Mova um quadrado para direita\n",
      "10.Preencha o quadrado\n"
     ]
    }
   ],
   "source": [
    "print(\"1.Preencha o quadrado\")\n",
    "print(\"2.Mova um quadrado para baixo\")\n",
    "print(\"3.Mova um quadrado para direita\")\n",
    "print(\"4.Preencha o quadrado\")\n",
    "print(\"5.Mova um quadrado para baixo\")\n",
    "print(\"6.Mova um quadrado para direita\")\n",
    "print(\"7.Preencha o quadrado\")\n",
    "print(\"8.Mova um quadrado para baixo\")\n",
    "print(\"9.Mova um quadrado para direita\")\n",
    "print(\"10.Preencha o quadrado\")\n"
   ]
  },
  {
   "cell_type": "markdown",
   "metadata": {},
   "source": [
    "### Imagem 3"
   ]
  },
  {
   "cell_type": "code",
   "execution_count": 12,
   "metadata": {},
   "outputs": [
    {
     "name": "stdout",
     "output_type": "stream",
     "text": [
      "1.Preencha o quadrado\n",
      "2.Mova um quadrado para baixo\n",
      "3.Preencha o quadrado\n",
      "4.Mova um quadrado para baixo\n",
      "5.Preencha o quadrado\n",
      "6.Mova um quadrado para baixo\n",
      "7.Mova um quadrado para direita\n",
      "8.Preencha o quadrado\n",
      "9.Mova um quadrado para baixo\n",
      "1.0Preencha o quadrado\n"
     ]
    }
   ],
   "source": [
    "print(\"1.Preencha o quadrado\")\n",
    "print(\"2.Mova um quadrado para baixo\")\n",
    "print(\"3.Preencha o quadrado\")\n",
    "print(\"4.Mova um quadrado para baixo\")\n",
    "print(\"5.Preencha o quadrado\")\n",
    "print(\"6.Mova um quadrado para baixo\")\n",
    "print(\"7.Mova um quadrado para direita\")\n",
    "print(\"8.Preencha o quadrado\")\n",
    "print(\"9.Mova um quadrado para baixo\")\n",
    "print(\"1.0Preencha o quadrado\")"
   ]
  },
  {
   "cell_type": "markdown",
   "metadata": {},
   "source": [
    "### Imagem 4"
   ]
  },
  {
   "cell_type": "code",
   "execution_count": 13,
   "metadata": {},
   "outputs": [
    {
     "name": "stdout",
     "output_type": "stream",
     "text": [
      "1.Mova um quadrado para direita\n",
      "2.Preencha o quadrado\n",
      "3.Mova um quadrado para baixo\n",
      "4.Preencha o quadrado\n",
      "5.Mova um quadrado para direita\n",
      "6.Preencha o quadrado\n",
      "7.Mova um quadrado para direita\n",
      "8.Preencha o quadrado\n",
      "9.Mova um quadrado para baixo\n",
      "10.Preencha o quadrado\n",
      "11.Mova um quadrado para baixo\n",
      "12.Preencha o quadrado\n"
     ]
    }
   ],
   "source": [
    "print(\"1.Mova um quadrado para direita\")\n",
    "print(\"2.Preencha o quadrado\")\n",
    "print(\"3.Mova um quadrado para baixo\")\n",
    "print(\"4.Preencha o quadrado\")\n",
    "print(\"5.Mova um quadrado para direita\")\n",
    "print(\"6.Preencha o quadrado\")\n",
    "print(\"7.Mova um quadrado para direita\")\n",
    "print(\"8.Preencha o quadrado\")\n",
    "print(\"9.Mova um quadrado para baixo\")\n",
    "print(\"10.Preencha o quadrado\")\n",
    "print(\"11.Mova um quadrado para baixo\")\n",
    "print(\"12.Preencha o quadrado\")"
   ]
  },
  {
   "cell_type": "markdown",
   "metadata": {},
   "source": [
    "### imagem 5"
   ]
  },
  {
   "cell_type": "code",
   "execution_count": 14,
   "metadata": {},
   "outputs": [
    {
     "name": "stdout",
     "output_type": "stream",
     "text": [
      "1.Mova um quadrado para baixo\n",
      "2.Mova um quadrado para baixo\n",
      "3.Mova um quadrado para baixo\n",
      "4.Preencha o quadrado\n",
      "5.Mova um quadrado para direita\n",
      "6.Mova um quadrado para cima\n",
      "7.Preencha o quadrado\n",
      "8.Mova um quadrado para direita\n",
      "9.Mova um quadrado para cima\n",
      "10.Preencha o quadrado\n",
      "11.Mova um quadrado para direita\n",
      "12.Mova um quadrado para cima\n",
      "13.Preencha o quadrado\n"
     ]
    }
   ],
   "source": [
    "print(\"1.Mova um quadrado para baixo\")\n",
    "print(\"2.Mova um quadrado para baixo\")\n",
    "print(\"3.Mova um quadrado para baixo\")\n",
    "print(\"4.Preencha o quadrado\")\n",
    "print(\"5.Mova um quadrado para direita\")\n",
    "print(\"6.Mova um quadrado para cima\")\n",
    "print(\"7.Preencha o quadrado\")\n",
    "print(\"8.Mova um quadrado para direita\")\n",
    "print(\"9.Mova um quadrado para cima\")\n",
    "print(\"10.Preencha o quadrado\")\n",
    "print(\"11.Mova um quadrado para direita\")\n",
    "print(\"12.Mova um quadrado para cima\")\n",
    "print(\"13.Preencha o quadrado\")\n"
   ]
  },
  {
   "cell_type": "markdown",
   "metadata": {},
   "source": [
    "### imagem 6"
   ]
  },
  {
   "cell_type": "code",
   "execution_count": 15,
   "metadata": {},
   "outputs": [
    {
     "name": "stdout",
     "output_type": "stream",
     "text": [
      "1.Mova um quadrado para direita\n",
      "2.Preencha o quadrado\n",
      "3.Mova um quadrado para direita\n",
      "4.Preencha o quadrado\n",
      "5.Mova um quadrado para baixo\n",
      "6.Preencha o quadrado\n",
      "7.Mova um quadrado para esquerda\n",
      "8.Preencha o quadrado\n",
      "9.Mova um quadrado para baixo\n",
      "10.Preencha o quadrado\n",
      "11.Mova um quadrado para direita\n",
      "12.Preencha o quadrado\n",
      "13.Mova um quadrado para baixo\n",
      "14.Preencha o quadrado\n",
      "15.Mova um quadrado para esquerda\n",
      "16.Preencha o quadrado\n"
     ]
    }
   ],
   "source": [
    "print(\"1.Mova um quadrado para direita\")\n",
    "print(\"2.Preencha o quadrado\")\n",
    "print(\"3.Mova um quadrado para direita\")\n",
    "print(\"4.Preencha o quadrado\")\n",
    "print(\"5.Mova um quadrado para baixo\")\n",
    "print(\"6.Preencha o quadrado\")\n",
    "print(\"7.Mova um quadrado para esquerda\")\n",
    "print(\"8.Preencha o quadrado\")\n",
    "print(\"9.Mova um quadrado para baixo\")\n",
    "print(\"10.Preencha o quadrado\")\n",
    "print(\"11.Mova um quadrado para direita\")\n",
    "print(\"12.Preencha o quadrado\")\n",
    "print(\"13.Mova um quadrado para baixo\")\n",
    "print(\"14.Preencha o quadrado\")\n",
    "print(\"15.Mova um quadrado para esquerda\")\n",
    "print(\"16.Preencha o quadrado\")"
   ]
  }
 ],
 "metadata": {
  "kernelspec": {
   "display_name": "Python 3",
   "language": "python",
   "name": "python3"
  },
  "language_info": {
   "codemirror_mode": {
    "name": "ipython",
    "version": 3
   },
   "file_extension": ".py",
   "mimetype": "text/x-python",
   "name": "python",
   "nbconvert_exporter": "python",
   "pygments_lexer": "ipython3",
   "version": "3.10.12"
  }
 },
 "nbformat": 4,
 "nbformat_minor": 2
}
