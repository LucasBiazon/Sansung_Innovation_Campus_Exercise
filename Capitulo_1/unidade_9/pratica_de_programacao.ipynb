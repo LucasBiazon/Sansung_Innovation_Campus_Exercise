{
 "cells": [
  {
   "cell_type": "markdown",
   "metadata": {},
   "source": [
    "### Unidade 9 - prática de programação\n",
    "Q1. \n",
    "Um número palíndromo refere-se a um número inteiro cujo valor é o mesmo que seu valor original, mesmo se listado de cabeça para baixo, como 121 ou 3443. Escreva o seguinte programa para determinar se o número é um número palíndromo ou não, recebendo o número n do usuário."
   ]
  },
  {
   "cell_type": "code",
   "execution_count": 10,
   "metadata": {},
   "outputs": [
    {
     "name": "stdout",
     "output_type": "stream",
     "text": [
      "Não é palíndromo\n",
      "['3343']\n"
     ]
    }
   ],
   "source": [
    "palindromo = input(\"Digite um número: \")\n",
    "\n",
    "reverse = ''\n",
    "for i in range(len(palindromo)-1, -1, -1):\n",
    "    reverse += palindromo[i]\n",
    "\n",
    "if palindromo == reverse:\n",
    "    print(\"É palíndromo\")\n",
    "else:\n",
    "    print(\"Não é palíndromo\")     \n",
    "\n",
    "\n",
    "# if palindromo == palindromo[::-1]:\n",
    "#     print(\"É palíndromo\")   \n",
    "\n",
    "\n",
    "  "
   ]
  },
  {
   "cell_type": "markdown",
   "metadata": {},
   "source": [
    "Q2. \n",
    "O computador tem um número inteiro aleatório entre 1 e 100 como o valor de resposta correto, como a seguir. Quando o usuário apresenta a resposta correta, o programa apenas informa se o inteiro apresentado é maior ou menor em comparação com a resposta correta que ele armazenou. Este jogo é repetido até que o usuário responda corretamente."
   ]
  },
  {
   "cell_type": "code",
   "execution_count": 44,
   "metadata": {},
   "outputs": [
    {
     "name": "stdout",
     "output_type": "stream",
     "text": [
      "Mais baixo!\n",
      "Mais baixo!\n",
      "Mais baixo!\n",
      "Mais baixo!\n",
      "Mais baixo!\n",
      "Mais baixo!\n",
      "Mais baixo!\n",
      "Parabéns. Tentativas: 8\n"
     ]
    }
   ],
   "source": [
    "import random as rd\n",
    "num_random = rd.randint(1, 100)\n",
    "num = int(input(\"Digite um número: \"))\n",
    "\n",
    "tentativa = 1\n",
    "while num != num_random:\n",
    "    tentativa += 1\n",
    "    if num > num_random:\n",
    "        print(\"Mais baixo!\")\n",
    "    else:\n",
    "        print(\"Mais alto!\")\n",
    "    num = int(input(\"Digite um número: \"))\n",
    "\n",
    "print('Parabéns. Tentativas: {}'.format(tentativa))"
   ]
  }
 ],
 "metadata": {
  "kernelspec": {
   "display_name": "Python 3",
   "language": "python",
   "name": "python3"
  },
  "language_info": {
   "codemirror_mode": {
    "name": "ipython",
    "version": 3
   },
   "file_extension": ".py",
   "mimetype": "text/x-python",
   "name": "python",
   "nbconvert_exporter": "python",
   "pygments_lexer": "ipython3",
   "version": "3.10.12"
  }
 },
 "nbformat": 4,
 "nbformat_minor": 2
}
