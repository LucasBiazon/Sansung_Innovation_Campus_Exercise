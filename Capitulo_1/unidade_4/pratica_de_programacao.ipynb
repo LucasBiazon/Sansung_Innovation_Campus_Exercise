{
 "cells": [
  {
   "cell_type": "markdown",
   "metadata": {},
   "source": [
    "## Unidade  4 - Prática de programação \n",
    "Receber um valor de raio do usuário e imprimir a circunferência e a área de um círculo com este raio. Use a variável PI= 3,141592 para obter este valor. "
   ]
  },
  {
   "cell_type": "code",
   "execution_count": null,
   "metadata": {},
   "outputs": [],
   "source": [
    "pi = 3.14\n",
    "raio = float(input(\"Digite o raio de um círculo: \"))\n",
    "area = pi * raio ** 2\n",
    "cincunferencia = 2 * pi * raio\n",
    "print(\"Circunferência de um círculo = \", cincunferencia, \" Área de um círculo = \", area)"
   ]
  }
 ],
 "metadata": {
  "language_info": {
   "name": "python"
  }
 },
 "nbformat": 4,
 "nbformat_minor": 2
}
