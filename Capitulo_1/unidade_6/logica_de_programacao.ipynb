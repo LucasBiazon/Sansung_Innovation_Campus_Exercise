{
 "cells": [
  {
   "cell_type": "markdown",
   "metadata": {},
   "source": [
    "## Unidade 6 - lógica de programção\n",
    "Q1. Se a pontuação de um usuário do jogo for superior a 1000 pontos, imprima 'Você é um(a) mestre(a)'.\n"
   ]
  },
  {
   "cell_type": "code",
   "execution_count": 2,
   "metadata": {},
   "outputs": [
    {
     "name": "stdout",
     "output_type": "stream",
     "text": [
      "Você é um(a) mestre(a).\n"
     ]
    }
   ],
   "source": [
    "game_score = 1500\n",
    "if game_score > 1000:\n",
    "  print(\"Você é um(a) mestre(a).\")"
   ]
  },
  {
   "cell_type": "markdown",
   "metadata": {},
   "source": [
    "Q2.\n",
    "Escreva um programa que receba qualquer número inteiro x entre -100 e 100 e 1) imprime x na tela, e 2) imprime \"...é um número natural\" se x for um número inteiro maior que zero. Caso contrário, deixe-o simplesmente imprimir x como em x = -10."
   ]
  },
  {
   "cell_type": "code",
   "execution_count": 6,
   "metadata": {},
   "outputs": [
    {
     "name": "stdout",
     "output_type": "stream",
     "text": [
      "x = -666\n"
     ]
    }
   ],
   "source": [
    "x = int(input(\"Digite um número entre -100 a 100: \"))\n",
    "print(\"x =\", x)\n",
    "if x >=  0:\n",
    "  print(x, \"é um número natural\")"
   ]
  }
 ],
 "metadata": {
  "kernelspec": {
   "display_name": "Python 3",
   "language": "python",
   "name": "python3"
  },
  "language_info": {
   "codemirror_mode": {
    "name": "ipython",
    "version": 3
   },
   "file_extension": ".py",
   "mimetype": "text/x-python",
   "name": "python",
   "nbconvert_exporter": "python",
   "pygments_lexer": "ipython3",
   "version": "3.10.12"
  }
 },
 "nbformat": 4,
 "nbformat_minor": 2
}
