{
 "cells": [
  {
   "cell_type": "markdown",
   "metadata": {},
   "source": [
    "## Unidade 7 - prática de programação\n",
    "Escreva um programa que executa adição, subtração, multiplicação e divisão. Ele imprime o resultado da operação de dois inteiros positivos, com base no número de operação desejado dado como entrada. Se um número diferente de 1, 2, 3 e 4 for dado como entrada, é impresso \"Inserido um número incorreto\". Para inserir dois números, escreva um, pressione enter e escreva outro. "
   ]
  },
  {
   "cell_type": "code",
   "execution_count": 6,
   "metadata": {},
   "outputs": [
    {
     "name": "stdout",
     "output_type": "stream",
     "text": [
      "1) Adição \n",
      "2) Subtração \n",
      "3) Multiplicação \n",
      "4) Divisão\n",
      "Inserido um número incorreto\n"
     ]
    }
   ],
   "source": [
    "print(\"1) Adição \\n2) Subtração \\n3) Multiplicação \\n4) Divisão\")\n",
    "op = int(input(\"Escolha uma opção: \"))\n",
    "num1 = int(input(\"Digite o primeiro número: \"))\n",
    "num2 = int(input(\"Digite o segundo número: \"))\n",
    "\n",
    "if op == 1:\n",
    "  print(num1, \"+\", num2, \"=\", num1 + num2)\n",
    "elif op == 2:\n",
    "  print(num1, \"-\", num2, \"=\", num1 - num2)\n",
    "elif op == 3:\n",
    "  print(num1, \"*\", num2, \"=\", num1 * num2)\n",
    "elif op == 4:\n",
    "  print(num1, \"/\", num2, \"=\", num1 / num2)\n",
    "else:\n",
    "  print(\"Inserido um número incorreto\")\n"
   ]
  },
  {
   "cell_type": "markdown",
   "metadata": {},
   "source": [
    "Q2. \n",
    "Escreva um programa que receba um ponto com coordenadas x e y como entrada, e determine em qual quadrante entre 1, 2, 3, 4 o ponto pertence. A posição do quadrante é mostrada na figura a seguir."
   ]
  },
  {
   "cell_type": "code",
   "execution_count": 26,
   "metadata": {},
   "outputs": [
    {
     "name": "stdout",
     "output_type": "stream",
     "text": [
      "Terceiro quadrante\n"
     ]
    }
   ],
   "source": [
    "x, y = input(\"Digite as cordenadas: \").split()\n",
    "x = int(x)\n",
    "y = int(y)\n",
    "\n",
    "if x > 0 and y > 0:\n",
    "  print(\"Primeiro quadrante\")\n",
    "elif x < 0 and y > 0:\n",
    "  print(\"Segundo quadrante\")\n",
    "elif x < 0 and y < 0:\n",
    "  print(\"Terceiro quadrante\")\n",
    "elif x > 0 and y < 0:\n",
    "  print(\"Quarto quadrante\")\n"
   ]
  },
  {
   "cell_type": "markdown",
   "metadata": {},
   "source": [
    "Q3. \n",
    "Desenvolver um programa de pedido de cardápio para o Restaurante Yummy. Mostre o seguinte menu ao usuário e deixe que o usuário selecione um. Se o alfabeto de entrada dado não estiver no menu, imprima 'entrar novamente no menu:' e receba outra entrada."
   ]
  },
  {
   "cell_type": "code",
   "execution_count": 31,
   "metadata": {},
   "outputs": [
    {
     "name": "stdout",
     "output_type": "stream",
     "text": [
      "Bem-vindo a um delicioso restaurante. Aqui está o cardápio.\n",
      "1) Hambúrguer(digite H) \n",
      "2) Frango(digite F) \n",
      "3) Pizza(digite P)\n",
      "Opção inválida\n",
      "Bem-vindo a um delicioso restaurante. Aqui está o cardápio.\n",
      "1) Hambúrguer(digite H) \n",
      "2) Frango(digite F) \n",
      "3) Pizza(digite P)\n",
      "Hambúrguer\n"
     ]
    }
   ],
   "source": [
    "op_valida = False\n",
    "while not op_valida:\n",
    "  print(\"Bem-vindo a um delicioso restaurante. Aqui está o cardápio.\")\n",
    "  print(\"1) Hambúrguer(digite H) \\n2) Frango(digite F) \\n3) Pizza(digite P)\")\n",
    "\n",
    "  op = input(\"Escolha um menu (digite H, F ou P): \")\n",
    "  if op  == 'H' or op == 'h':\n",
    "    print(\"Hambúrguer\")\n",
    "    op_valida = True\n",
    "  elif op == 'F' or op == 'f':\n",
    "    print(\"Frango\")\n",
    "    op_valida = True\n",
    "  elif op == 'P' or op == 'p':\n",
    "    print(\"Pizza\")\n",
    "    op_valida = True\n",
    "  else:\n",
    "    print(\"Opção inválida\")\n",
    "    entrar_novamente = input(\"Deseja tentar novamente? (s/n): \")\n",
    "    if entrar_novamente == 'n':\n",
    "      break\n",
    "    else:\n",
    "      continue\n"
   ]
  }
 ],
 "metadata": {
  "kernelspec": {
   "display_name": "Python 3",
   "language": "python",
   "name": "python3"
  },
  "language_info": {
   "codemirror_mode": {
    "name": "ipython",
    "version": 3
   },
   "file_extension": ".py",
   "mimetype": "text/x-python",
   "name": "python",
   "nbconvert_exporter": "python",
   "pygments_lexer": "ipython3",
   "version": "3.10.12"
  }
 },
 "nbformat": 4,
 "nbformat_minor": 2
}
