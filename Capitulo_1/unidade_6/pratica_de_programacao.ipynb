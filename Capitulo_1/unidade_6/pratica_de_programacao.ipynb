{
 "cells": [
  {
   "cell_type": "markdown",
   "metadata": {},
   "source": [
    "## Unidade 6 - Pŕatica de programação\n",
    "Q1. \n",
    "Escreva um programa que receba A idade como entrada e imprima \"Adulto\" se a idade for 20 anos ou mais, \"Jovem\" se tiver menos de 20 anos e for igual ou superior a 10, e \"Criança\" se tiver menos de 10 anos."
   ]
  },
  {
   "cell_type": "code",
   "execution_count": 6,
   "metadata": {},
   "outputs": [
    {
     "name": "stdout",
     "output_type": "stream",
     "text": [
      "Criança\n"
     ]
    }
   ],
   "source": [
    "age = int(input(\"Digite sua idade: \"))\n",
    "if age > 20:\n",
    "    print(\"Adulto\")\n",
    "elif age >= 10:\n",
    "    print(\"Adolescente\")\n",
    "else:\n",
    "    print(\"Criança\")"
   ]
  },
  {
   "cell_type": "markdown",
   "metadata": {},
   "source": [
    "Q2. \n",
    "Escreva um programa que verifique a entrada em um brinquedo em um parque de diversões. O programa deve receber como entrada a idade e a altura e imprimir \"Você pode entrar.\" caso a idade seja maior que 16 anos e a altura for maior que 150 cm, o programa deve imprimir \"Você não tem permissão para entrar.\", caso contrário."
   ]
  },
  {
   "cell_type": "code",
   "execution_count": 10,
   "metadata": {},
   "outputs": [
    {
     "name": "stdout",
     "output_type": "stream",
     "text": [
      "Você pode entrar.\n"
     ]
    }
   ],
   "source": [
    "height = int(input(\"Digite sua altura em cm: \"))\n",
    "age = int(input(\"Digite sua idade: \"))\n",
    "if(height > 150 and age > 16):\n",
    "  print(\"Você pode entrar.\")\n",
    "else: print(\"Você não tem permissão para entrar.\")"
   ]
  }
 ],
 "metadata": {
  "kernelspec": {
   "display_name": "Python 3",
   "language": "python",
   "name": "python3"
  },
  "language_info": {
   "codemirror_mode": {
    "name": "ipython",
    "version": 3
   },
   "file_extension": ".py",
   "mimetype": "text/x-python",
   "name": "python",
   "nbconvert_exporter": "python",
   "pygments_lexer": "ipython3",
   "version": "3.10.12"
  }
 },
 "nbformat": 4,
 "nbformat_minor": 2
}
