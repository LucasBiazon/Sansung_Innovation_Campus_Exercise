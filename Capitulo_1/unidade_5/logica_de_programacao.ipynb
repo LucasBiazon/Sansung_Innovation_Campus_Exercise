{
 "cells": [
  {
   "cell_type": "markdown",
   "metadata": {},
   "source": [
    "### Unidade 5 - lógica de programação\n",
    "Q1.Escreva o código que recebe o valor n através da entrada do teclado do usuário. Retornar True (Verdadeiro) se o número inteiro dado for ímpar e retornar False (Falso) se o número inteiro for par.  Para os casos em que n é 20 e 21, imprima o seguinte:\n"
   ]
  },
  {
   "cell_type": "code",
   "execution_count": 2,
   "metadata": {},
   "outputs": [
    {
     "name": "stdout",
     "output_type": "stream",
     "text": [
      "O número inteiro é impar?  True\n"
     ]
    }
   ],
   "source": [
    "numero = int(input(\"Digite um número inteiro: \"))\n",
    "print(\"O número inteiro é impar? \", numero % 2 == 1)"
   ]
  },
  {
   "cell_type": "markdown",
   "metadata": {},
   "source": [
    "Q2. \n",
    "Escreva o código que recebe a entrada do usuário e determina se o valor inteiro n é um número par dentro da faixa de 0 a 100 ou não. O resultado da execução deve ser o seguinte:"
   ]
  },
  {
   "cell_type": "code",
   "execution_count": 7,
   "metadata": {},
   "outputs": [
    {
     "name": "stdout",
     "output_type": "stream",
     "text": [
      "O número inteiro é par entre 0 a 100? False\n"
     ]
    }
   ],
   "source": [
    "numero = int(input(\"Digite um número inteiro: \"))\n",
    "print(\"O número inteiro é par entre 0 a 100?\", numero % 2 == 0 and 0 < numero < 100)"
   ]
  }
 ],
 "metadata": {
  "kernelspec": {
   "display_name": "Python 3",
   "language": "python",
   "name": "python3"
  },
  "language_info": {
   "codemirror_mode": {
    "name": "ipython",
    "version": 3
   },
   "file_extension": ".py",
   "mimetype": "text/x-python",
   "name": "python",
   "nbconvert_exporter": "python",
   "pygments_lexer": "ipython3",
   "version": "3.10.12"
  }
 },
 "nbformat": 4,
 "nbformat_minor": 2
}
