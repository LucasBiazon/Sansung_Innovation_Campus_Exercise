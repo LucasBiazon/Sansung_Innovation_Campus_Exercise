{
 "cells": [
  {
   "cell_type": "markdown",
   "metadata": {},
   "source": [
    "## Unidade  4 - Prática de programação \n",
    "Receber um valor de raio do usuário e imprimir a circunferência e a área de um círculo com este raio. Use a variável PI= 3,141592 para obter este valor. "
   ]
  },
  {
   "cell_type": "code",
   "execution_count": 7,
   "metadata": {},
   "outputs": [
    {
     "name": "stdout",
     "output_type": "stream",
     "text": [
      "Circunferência de um círculo =  69.115024  Área de um círculo =  380.13263200000006\n"
     ]
    }
   ],
   "source": [
    "pi = 3.141592\n",
    "raio = float(input(\"Digite o raio de um círculo: \"))\n",
    "area = pi * raio * raio\n",
    "cincunferencia = 2 * pi * raio\n",
    "print(\"Circunferência de um círculo = \", cincunferencia, \" Área de um círculo = \", area)"
   ]
  },
  {
   "cell_type": "markdown",
   "metadata": {},
   "source": [
    "Q2. \n",
    "Escreva um programa que exibe os valores ao quadrado de 2 a 6 em uma tabela como a seguir. Como mostrado abaixo, pode ser aumentado de 2 para 6, e n tem um valor 2. Insira o valor real para a peça correspondente a a**n, de modo que o resultado de saída da equação seja 2 ** 2."
   ]
  },
  {
   "cell_type": "code",
   "execution_count": 8,
   "metadata": {},
   "outputs": [
    {
     "name": "stdout",
     "output_type": "stream",
     "text": [
      "a \t b \t a**b\n",
      "2 \t 2 \t 4\n",
      "3 \t 2 \t 9\n",
      "4 \t 2 \t 16\n",
      "5 \t 2 \t 25\n",
      "6 \t 2 \t 36\n"
     ]
    }
   ],
   "source": [
    "print(\"a \\t b \\t a**b\")\n",
    "n = 2\n",
    "a = 2\n",
    "while a <= 6:\n",
    "    print(a, \"\\t\", n, \"\\t\", a**n)\n",
    "    a+= 1"
   ]
  }
 ],
 "metadata": {
  "kernelspec": {
   "display_name": "Python 3",
   "language": "python",
   "name": "python3"
  },
  "language_info": {
   "codemirror_mode": {
    "name": "ipython",
    "version": 3
   },
   "file_extension": ".py",
   "mimetype": "text/x-python",
   "name": "python",
   "nbconvert_exporter": "python",
   "pygments_lexer": "ipython3",
   "version": "3.10.12"
  }
 },
 "nbformat": 4,
 "nbformat_minor": 2
}
