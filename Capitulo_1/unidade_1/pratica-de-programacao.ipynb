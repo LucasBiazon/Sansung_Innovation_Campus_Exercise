{
 "cells": [
  {
   "cell_type": "markdown",
   "metadata": {},
   "source": [
    "## Unidade 1 - prática de programação\n",
    "### Faça um código com sete linhas de print() que funcionam para produzir um resultado como abaixo.\n",
    "```\n",
    "   *\n",
    "  ***\n",
    " *****\n",
    "*********\n",
    " *****\n",
    "  ***\n",
    "   * \n",
    "```"
   ]
  },
  {
   "cell_type": "code",
   "execution_count": 11,
   "metadata": {},
   "outputs": [
    {
     "name": "stdout",
     "output_type": "stream",
     "text": [
      "    *\n",
      "   ***\n",
      "  *****\n",
      "*********\n",
      "  *****\n",
      "   ***\n",
      "    *\n"
     ]
    }
   ],
   "source": [
    "print(\" \" * 4 + \"*\")\n",
    "print(\" \" * 3 + \"*\" * 3)\n",
    "print(\" \" * 2 + \"*\" * 5)\n",
    "print(\"*\" * 9)\n",
    "print(\" \" * 2 + \"*\" * 5)\n",
    "print(\" \" * 3 + \"*\" * 3)\n",
    "print(\" \" * 4 + \"*\")"
   ]
  }
 ],
 "metadata": {
  "kernelspec": {
   "display_name": "Python 3",
   "language": "python",
   "name": "python3"
  },
  "language_info": {
   "codemirror_mode": {
    "name": "ipython",
    "version": 3
   },
   "file_extension": ".py",
   "mimetype": "text/x-python",
   "name": "python",
   "nbconvert_exporter": "python",
   "pygments_lexer": "ipython3",
   "version": "3.10.12"
  }
 },
 "nbformat": 4,
 "nbformat_minor": 2
}
