{
 "cells": [
  {
   "cell_type": "markdown",
   "metadata": {},
   "source": [
    "## Lógica de Programação\n",
    "#### Q1 - Use a função int para emitir o número 100 adicionando a string \"50\" e o número 50.  Além disso, use a função str para produzir o resultado da adição \"5050\"."
   ]
  },
  {
   "cell_type": "code",
   "execution_count": 8,
   "metadata": {},
   "outputs": [
    {
     "name": "stdout",
     "output_type": "stream",
     "text": [
      "100\n",
      "5050\n"
     ]
    }
   ],
   "source": [
    "print(int(\"50\") + 50)\n",
    "print(\"50\" + str(50))"
   ]
  },
  {
   "cell_type": "markdown",
   "metadata": {},
   "source": [
    "#### Q2 - Um caracter '1' e três '0' são dados. Use estes quatro para fazer o número 1000. Aqui, apenas operações de adição podem ser usadas entre strings, e a função int() pode ser usada apenas uma vez."
   ]
  },
  {
   "cell_type": "code",
   "execution_count": 9,
   "metadata": {},
   "outputs": [
    {
     "name": "stdout",
     "output_type": "stream",
     "text": [
      "1000\n"
     ]
    }
   ],
   "source": [
    "print(int('1' + '0'+ '0'+ '0'))"
   ]
  },
  {
   "cell_type": "markdown",
   "metadata": {},
   "source": [
    "## Prática de programação\n",
    "#### Q1 - Um fatorial n! é definido como n * (n-1) * (n-2) *...*2*1.  Encontre 5! e 10! usando o número inteiro e o operador *, imprimindo-os como abaixo"
   ]
  },
  {
   "cell_type": "code",
   "execution_count": 36,
   "metadata": {},
   "outputs": [
    {
     "name": "stdout",
     "output_type": "stream",
     "text": [
      "!5 = 120\n",
      "!5 = 3628800\n"
     ]
    }
   ],
   "source": [
    "print(\"!5 =\", 5*4*3*2*1)\n",
    "print(\"!5 =\", 10*9*8*7*6*5*4*3*2*1)"
   ]
  }
 ],
 "metadata": {
  "kernelspec": {
   "display_name": "Python 3",
   "language": "python",
   "name": "python3"
  },
  "language_info": {
   "codemirror_mode": {
    "name": "ipython",
    "version": 3
   },
   "file_extension": ".py",
   "mimetype": "text/x-python",
   "name": "python",
   "nbconvert_exporter": "python",
   "pygments_lexer": "ipython3",
   "version": "3.10.12"
  }
 },
 "nbformat": 4,
 "nbformat_minor": 2
}
